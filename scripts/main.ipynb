{
 "cells": [
  {
   "cell_type": "markdown",
   "metadata": {},
   "source": [
    "## Dependencies"
   ]
  },
  {
   "cell_type": "code",
   "execution_count": 1,
   "metadata": {
    "tags": []
   },
   "outputs": [],
   "source": [
    "import pandas as pd\n",
    "import numpy as np\n",
    "import os\n",
    "import shutil\n",
    "from datetime import date\n",
    "import csv\n",
    "import time\n",
    "import zipfile\n",
    "import requests\n",
    "import steam\n",
    "from steam.steamid import SteamID\n",
    "from steam.webapi import WebAPI, get\n",
    "import steamleaderboards as sl\n",
    "import os,sys,stat\n",
    "from zipfile import ZipFile, ZipInfo"
   ]
  },
  {
   "cell_type": "markdown",
   "metadata": {},
   "source": [
    "# 1. unpack stats from zipped folder"
   ]
  },
  {
   "cell_type": "code",
   "execution_count": 2,
   "metadata": {},
   "outputs": [],
   "source": [
    "# user_zip = data = st.file_uploader(\"Upload your zipped stats folder\", type=[\"csv\", \"txt\"])\n",
    "dataDir = 'G:\\Steam\\steamapps\\common\\FPSAimTrainer\\FPSAimTrainer\\stats_comp.zip'\n",
    "target = ['Kills:', 'Avg TTK:', 'Score:', 'Scenario:']\n",
    "temp_folder = '../temp'\n",
    "\n",
    "# unzip and extract to a temporary folder\n",
    "with zipfile.ZipFile(dataDir, 'r') as zip_ref:\n",
    "   zip_ref.extractall(temp_folder) # If files with same filename are already present at extraction location then it will overwrite those files.\n"
   ]
  },
  {
   "cell_type": "code",
   "execution_count": 3,
   "metadata": {},
   "outputs": [],
   "source": [
    "\n",
    "unzipped_stats = temp_folder + '\\stats'\n",
    "\n",
    "try:\n",
    "    stats = pd.read_csv(unzipped_stats)\n",
    "except:\n",
    "    stats = pd.DataFrame(columns=['Kills', 'Avg TTK', 'Score', 'Scenario'])"
   ]
  },
  {
   "cell_type": "code",
   "execution_count": 4,
   "metadata": {},
   "outputs": [
    {
     "data": {
      "text/html": [
       "<div>\n",
       "<style scoped>\n",
       "    .dataframe tbody tr th:only-of-type {\n",
       "        vertical-align: middle;\n",
       "    }\n",
       "\n",
       "    .dataframe tbody tr th {\n",
       "        vertical-align: top;\n",
       "    }\n",
       "\n",
       "    .dataframe thead th {\n",
       "        text-align: right;\n",
       "    }\n",
       "</style>\n",
       "<table border=\"1\" class=\"dataframe\">\n",
       "  <thead>\n",
       "    <tr style=\"text-align: right;\">\n",
       "      <th></th>\n",
       "      <th>Kills</th>\n",
       "      <th>Avg TTK</th>\n",
       "      <th>Score</th>\n",
       "      <th>Scenario</th>\n",
       "    </tr>\n",
       "  </thead>\n",
       "  <tbody>\n",
       "  </tbody>\n",
       "</table>\n",
       "</div>"
      ],
      "text/plain": [
       "Empty DataFrame\n",
       "Columns: [Kills, Avg TTK, Score, Scenario]\n",
       "Index: []"
      ]
     },
     "execution_count": 4,
     "metadata": {},
     "output_type": "execute_result"
    }
   ],
   "source": [
    "stats"
   ]
  },
  {
   "cell_type": "code",
   "execution_count": 5,
   "metadata": {
    "tags": []
   },
   "outputs": [],
   "source": [
    "# Empty dict to store our csv data\n",
    "data = {}\n",
    "\n",
    "# Go through all the files and store our target data in our empty dictionary, including the datetime of the file.\n",
    "for filename in os.listdir(unzipped_stats):\n",
    "    \n",
    "    f = open(f'{unzipped_stats}/{filename}', 'r')\n",
    "    with f as csv_file:\n",
    "        csv_reader = csv.reader(csv_file)\n",
    "        for line in csv_reader:\n",
    "            try:\n",
    "                if line[0] in target:\n",
    "                    data[(line[0][:-1])] = line[1]     \n",
    "            except IndexError:\n",
    "                continue\n",
    "        f.close()\n",
    "\n",
    "    scenario_date = f'{unzipped_stats}/{filename}'[-29:-10]\n",
    "    data[\"Date\"] = scenario_date\n",
    "    df = pd.DataFrame(data, index=[0])\n",
    "    stats = pd.concat([stats,df]).drop_duplicates().reset_index(drop=True)"
   ]
  },
  {
   "cell_type": "code",
   "execution_count": 6,
   "metadata": {},
   "outputs": [
    {
     "data": {
      "text/html": [
       "<div>\n",
       "<style scoped>\n",
       "    .dataframe tbody tr th:only-of-type {\n",
       "        vertical-align: middle;\n",
       "    }\n",
       "\n",
       "    .dataframe tbody tr th {\n",
       "        vertical-align: top;\n",
       "    }\n",
       "\n",
       "    .dataframe thead th {\n",
       "        text-align: right;\n",
       "    }\n",
       "</style>\n",
       "<table border=\"1\" class=\"dataframe\">\n",
       "  <thead>\n",
       "    <tr style=\"text-align: right;\">\n",
       "      <th></th>\n",
       "      <th>Kills</th>\n",
       "      <th>Avg TTK</th>\n",
       "      <th>Score</th>\n",
       "      <th>Scenario</th>\n",
       "      <th>Date</th>\n",
       "    </tr>\n",
       "  </thead>\n",
       "  <tbody>\n",
       "    <tr>\n",
       "      <th>0</th>\n",
       "      <td>103</td>\n",
       "      <td>0.59223</td>\n",
       "      <td>99.149529</td>\n",
       "      <td>Wide Wall 6Targets</td>\n",
       "      <td>2022.05.22-12.42.58</td>\n",
       "    </tr>\n",
       "  </tbody>\n",
       "</table>\n",
       "</div>"
      ],
      "text/plain": [
       "  Kills  Avg TTK      Score            Scenario                 Date\n",
       "0   103  0.59223  99.149529  Wide Wall 6Targets  2022.05.22-12.42.58"
      ]
     },
     "execution_count": 6,
     "metadata": {},
     "output_type": "execute_result"
    }
   ],
   "source": [
    "df"
   ]
  },
  {
   "cell_type": "markdown",
   "metadata": {},
   "source": [
    "#### (FROM DIRECTORY)..."
   ]
  },
  {
   "cell_type": "code",
   "execution_count": 7,
   "metadata": {
    "tags": []
   },
   "outputs": [],
   "source": [
    "#dataDir = 'G:\\Steam\\steamapps\\common\\FPSAimTrainer\\FPSAimTrainer\\stats'\n",
    "#target = ['Kills:', 'Avg TTK:', 'Score:', 'Scenario:']\n",
    "#try:\n",
    "#    stats = pd.read_csv(dataDir + '\\\\stats.csv')\n",
    "#except:\n",
    "#    stats = pd.DataFrame(columns=['Kills', 'Avg TTK', 'Score', 'Scenario'])\n",
    "#data = {}\n",
    "#\n",
    "#"
   ]
  },
  {
   "cell_type": "markdown",
   "metadata": {},
   "source": [
    "# CLEAN\n"
   ]
  },
  {
   "cell_type": "code",
   "execution_count": 8,
   "metadata": {},
   "outputs": [
    {
     "data": {
      "text/html": [
       "<div>\n",
       "<style scoped>\n",
       "    .dataframe tbody tr th:only-of-type {\n",
       "        vertical-align: middle;\n",
       "    }\n",
       "\n",
       "    .dataframe tbody tr th {\n",
       "        vertical-align: top;\n",
       "    }\n",
       "\n",
       "    .dataframe thead th {\n",
       "        text-align: right;\n",
       "    }\n",
       "</style>\n",
       "<table border=\"1\" class=\"dataframe\">\n",
       "  <thead>\n",
       "    <tr style=\"text-align: right;\">\n",
       "      <th></th>\n",
       "      <th>Kills</th>\n",
       "      <th>Avg TTK</th>\n",
       "      <th>Score</th>\n",
       "      <th>Scenario</th>\n",
       "      <th>Date</th>\n",
       "    </tr>\n",
       "  </thead>\n",
       "  <tbody>\n",
       "    <tr>\n",
       "      <th>0</th>\n",
       "      <td>2</td>\n",
       "      <td>0</td>\n",
       "      <td>10792.587891</td>\n",
       "      <td>180 Regen Warzone</td>\n",
       "      <td>2021.07.27-22.47.26</td>\n",
       "    </tr>\n",
       "    <tr>\n",
       "      <th>1</th>\n",
       "      <td>12</td>\n",
       "      <td>0</td>\n",
       "      <td>22690.832031</td>\n",
       "      <td>180 Regen Warzone</td>\n",
       "      <td>2021.07.27-22.48.41</td>\n",
       "    </tr>\n",
       "    <tr>\n",
       "      <th>2</th>\n",
       "      <td>7</td>\n",
       "      <td>0</td>\n",
       "      <td>15467.339844</td>\n",
       "      <td>180 Regen Warzone</td>\n",
       "      <td>2021.07.27-22.49.53</td>\n",
       "    </tr>\n",
       "  </tbody>\n",
       "</table>\n",
       "</div>"
      ],
      "text/plain": [
       "  Kills Avg TTK         Score           Scenario                 Date\n",
       "0     2       0  10792.587891  180 Regen Warzone  2021.07.27-22.47.26\n",
       "1    12       0  22690.832031  180 Regen Warzone  2021.07.27-22.48.41\n",
       "2     7       0  15467.339844  180 Regen Warzone  2021.07.27-22.49.53"
      ]
     },
     "execution_count": 8,
     "metadata": {},
     "output_type": "execute_result"
    }
   ],
   "source": [
    "stats.head(3)"
   ]
  },
  {
   "cell_type": "code",
   "execution_count": 9,
   "metadata": {},
   "outputs": [
    {
     "data": {
      "text/plain": [
       "Kills       0\n",
       "Avg TTK     0\n",
       "Score       0\n",
       "Scenario    0\n",
       "Date        0\n",
       "dtype: int64"
      ]
     },
     "execution_count": 9,
     "metadata": {},
     "output_type": "execute_result"
    }
   ],
   "source": [
    "stats.isna().sum() #NO Nan"
   ]
  },
  {
   "cell_type": "code",
   "execution_count": 10,
   "metadata": {},
   "outputs": [
    {
     "data": {
      "text/plain": [
       "0"
      ]
     },
     "execution_count": 10,
     "metadata": {},
     "output_type": "execute_result"
    }
   ],
   "source": [
    "stats.duplicated().sum() #NO duplicates"
   ]
  },
  {
   "cell_type": "code",
   "execution_count": 11,
   "metadata": {},
   "outputs": [],
   "source": [
    "stats['Kills'] = pd.to_numeric(stats['Kills'], downcast='integer')\n",
    "stats['Avg TTK'] = pd.to_numeric(stats['Avg TTK'], downcast='float')\n",
    "stats['Score'] = pd.to_numeric(stats['Avg TTK'], downcast='float')\n",
    "stats['Date'] = pd.to_datetime(stats['Date'], yearfirst=True, format=('%Y.%m.%d-%H.%M.%S'),exact=False)"
   ]
  },
  {
   "cell_type": "code",
   "execution_count": 12,
   "metadata": {},
   "outputs": [
    {
     "data": {
      "text/html": [
       "<div>\n",
       "<style scoped>\n",
       "    .dataframe tbody tr th:only-of-type {\n",
       "        vertical-align: middle;\n",
       "    }\n",
       "\n",
       "    .dataframe tbody tr th {\n",
       "        vertical-align: top;\n",
       "    }\n",
       "\n",
       "    .dataframe thead th {\n",
       "        text-align: right;\n",
       "    }\n",
       "</style>\n",
       "<table border=\"1\" class=\"dataframe\">\n",
       "  <thead>\n",
       "    <tr style=\"text-align: right;\">\n",
       "      <th></th>\n",
       "      <th>Kills</th>\n",
       "      <th>Avg TTK</th>\n",
       "      <th>Score</th>\n",
       "      <th>Scenario</th>\n",
       "      <th>Date</th>\n",
       "    </tr>\n",
       "  </thead>\n",
       "  <tbody>\n",
       "    <tr>\n",
       "      <th>0</th>\n",
       "      <td>2</td>\n",
       "      <td>0.0</td>\n",
       "      <td>0.0</td>\n",
       "      <td>180 Regen Warzone</td>\n",
       "      <td>2021-07-27 22:47:26</td>\n",
       "    </tr>\n",
       "    <tr>\n",
       "      <th>1</th>\n",
       "      <td>12</td>\n",
       "      <td>0.0</td>\n",
       "      <td>0.0</td>\n",
       "      <td>180 Regen Warzone</td>\n",
       "      <td>2021-07-27 22:48:41</td>\n",
       "    </tr>\n",
       "    <tr>\n",
       "      <th>2</th>\n",
       "      <td>7</td>\n",
       "      <td>0.0</td>\n",
       "      <td>0.0</td>\n",
       "      <td>180 Regen Warzone</td>\n",
       "      <td>2021-07-27 22:49:53</td>\n",
       "    </tr>\n",
       "    <tr>\n",
       "      <th>3</th>\n",
       "      <td>9</td>\n",
       "      <td>0.0</td>\n",
       "      <td>0.0</td>\n",
       "      <td>180 Regen Warzone</td>\n",
       "      <td>2021-07-28 22:45:19</td>\n",
       "    </tr>\n",
       "    <tr>\n",
       "      <th>4</th>\n",
       "      <td>10</td>\n",
       "      <td>0.0</td>\n",
       "      <td>0.0</td>\n",
       "      <td>180 Regen Warzone</td>\n",
       "      <td>2021-07-28 22:46:26</td>\n",
       "    </tr>\n",
       "  </tbody>\n",
       "</table>\n",
       "</div>"
      ],
      "text/plain": [
       "   Kills  Avg TTK  Score           Scenario                Date\n",
       "0      2      0.0    0.0  180 Regen Warzone 2021-07-27 22:47:26\n",
       "1     12      0.0    0.0  180 Regen Warzone 2021-07-27 22:48:41\n",
       "2      7      0.0    0.0  180 Regen Warzone 2021-07-27 22:49:53\n",
       "3      9      0.0    0.0  180 Regen Warzone 2021-07-28 22:45:19\n",
       "4     10      0.0    0.0  180 Regen Warzone 2021-07-28 22:46:26"
      ]
     },
     "execution_count": 12,
     "metadata": {},
     "output_type": "execute_result"
    }
   ],
   "source": [
    "stats.head()"
   ]
  },
  {
   "cell_type": "markdown",
   "metadata": {},
   "source": [
    "# SAVE"
   ]
  },
  {
   "cell_type": "code",
   "execution_count": 13,
   "metadata": {},
   "outputs": [],
   "source": [
    "stats.to_csv(\"../data/stats.csv\", index=False)"
   ]
  },
  {
   "cell_type": "markdown",
   "metadata": {},
   "source": [
    "# 2. CREATE COUNTER THAT COUNTS UP MY HIGHESEST SCORING GAME IN REAL-TIME"
   ]
  },
  {
   "cell_type": "markdown",
   "metadata": {},
   "source": [
    "### Search Bar"
   ]
  },
  {
   "cell_type": "code",
   "execution_count": 14,
   "metadata": {},
   "outputs": [
    {
     "data": {
      "text/plain": [
       "'1wall 1target - 10 Min'"
      ]
     },
     "execution_count": 14,
     "metadata": {},
     "output_type": "execute_result"
    }
   ],
   "source": [
    "import difflib\n",
    "scenario_names = (stats['Scenario'].unique()).astype(str)\n",
    "user_input = '1wall 1target 10' # STREAMLIT -> user_input = st.text_input('Give me the name of a routine:')\n",
    "closest_match = (difflib.get_close_matches(str(user_input), scenario_names, n=1,cutoff=0.45).pop(0))\n",
    "closest_match"
   ]
  },
  {
   "cell_type": "markdown",
   "metadata": {},
   "source": [
    "### Date of highest score"
   ]
  },
  {
   "cell_type": "code",
   "execution_count": 15,
   "metadata": {},
   "outputs": [],
   "source": [
    "scenario = stats.loc[stats['Scenario'] == closest_match]"
   ]
  },
  {
   "cell_type": "code",
   "execution_count": 16,
   "metadata": {},
   "outputs": [
    {
     "data": {
      "text/plain": [
       "'2021-08-18 18:11:32'"
      ]
     },
     "execution_count": 16,
     "metadata": {},
     "output_type": "execute_result"
    }
   ],
   "source": [
    "import re\n",
    "\n",
    "high_score_date = []\n",
    "\n",
    "if sum(scenario['Score']) == 0:\n",
    "    high_score_date.append(scenario\n",
    "    .sort_values('Kills')\n",
    "    ['Date'].iloc[-1])\n",
    "elif scenario['Kills'] > 0 and sum(scenario['Score']) > 0:\n",
    "    high_score_date.append(scenario\n",
    "    .sort_values('Score')\n",
    "    ['Date'].iloc[-1])\n",
    "\n",
    "hs_date = str(high_score_date[0])\n",
    "hs_date"
   ]
  },
  {
   "cell_type": "markdown",
   "metadata": {},
   "source": [
    "### Now we search for the .csv file with the highest score"
   ]
  },
  {
   "cell_type": "code",
   "execution_count": 17,
   "metadata": {},
   "outputs": [],
   "source": [
    "hs_year = hs_date[:4]\n",
    "hs_month = hs_date[5:7]\n",
    "hs_day = hs_date[8:10]\n",
    "hs_hour = hs_date[11:13]\n",
    "hs_min = hs_date[14:16]\n",
    "hs_sec = hs_date[17:19]"
   ]
  },
  {
   "cell_type": "code",
   "execution_count": 60,
   "metadata": {},
   "outputs": [],
   "source": [
    "import re\n",
    "import time\n",
    "\n",
    "#def find_high_score_file():\n",
    "Kill = []\n",
    "Time = []\n",
    "Acc = []\n",
    "\n",
    "for filename in os.listdir(unzipped_stats):\n",
    "    if f'{hs_year}.{hs_month}.{hs_day}-{hs_hour}.{hs_min}.{hs_sec} Stats.csv' in filename:\n",
    "        f = open(f'{unzipped_stats}/{filename}', 'r')\n",
    "        with f as csv_file:\n",
    "            csv_reader = csv.reader(csv_file)\n",
    "            for line in csv_reader:\n",
    "                try:\n",
    "                    Kill.append(line[0])\n",
    "                    Time.append(line[1])\n",
    "                    Acc.append(line[7])\n",
    "                except Exception:\n",
    "                    break \n",
    "        f.close()"
   ]
  },
  {
   "cell_type": "code",
   "execution_count": 98,
   "metadata": {},
   "outputs": [
    {
     "data": {
      "text/html": [
       "<div>\n",
       "<style scoped>\n",
       "    .dataframe tbody tr th:only-of-type {\n",
       "        vertical-align: middle;\n",
       "    }\n",
       "\n",
       "    .dataframe tbody tr th {\n",
       "        vertical-align: top;\n",
       "    }\n",
       "\n",
       "    .dataframe thead th {\n",
       "        text-align: right;\n",
       "    }\n",
       "</style>\n",
       "<table border=\"1\" class=\"dataframe\">\n",
       "  <thead>\n",
       "    <tr style=\"text-align: right;\">\n",
       "      <th></th>\n",
       "      <th>Kill #</th>\n",
       "      <th>Time</th>\n",
       "      <th>Accuracy</th>\n",
       "    </tr>\n",
       "  </thead>\n",
       "  <tbody>\n",
       "    <tr>\n",
       "      <th>1</th>\n",
       "      <td>1</td>\n",
       "      <td>18:01:33.001</td>\n",
       "      <td>1</td>\n",
       "    </tr>\n",
       "    <tr>\n",
       "      <th>2</th>\n",
       "      <td>2</td>\n",
       "      <td>18:01:34.055</td>\n",
       "      <td>0.5</td>\n",
       "    </tr>\n",
       "    <tr>\n",
       "      <th>3</th>\n",
       "      <td>3</td>\n",
       "      <td>18:01:35.103</td>\n",
       "      <td>1</td>\n",
       "    </tr>\n",
       "    <tr>\n",
       "      <th>4</th>\n",
       "      <td>4</td>\n",
       "      <td>18:01:35.755</td>\n",
       "      <td>1</td>\n",
       "    </tr>\n",
       "    <tr>\n",
       "      <th>5</th>\n",
       "      <td>5</td>\n",
       "      <td>18:01:36.526</td>\n",
       "      <td>1</td>\n",
       "    </tr>\n",
       "  </tbody>\n",
       "</table>\n",
       "</div>"
      ],
      "text/plain": [
       "  Kill #          Time Accuracy\n",
       "1      1  18:01:33.001        1\n",
       "2      2  18:01:34.055      0.5\n",
       "3      3  18:01:35.103        1\n",
       "4      4  18:01:35.755        1\n",
       "5      5  18:01:36.526        1"
      ]
     },
     "execution_count": 98,
     "metadata": {},
     "output_type": "execute_result"
    }
   ],
   "source": [
    "data_tuples = list(zip(Kill,Time,Acc))\n",
    "\n",
    "high_score_df = pd.DataFrame(data_tuples,columns=('Kill #','Time', 'Accuracy')).loc[1:]\n",
    "high_score_df.head()"
   ]
  },
  {
   "cell_type": "markdown",
   "metadata": {},
   "source": [
    "CLEAN"
   ]
  },
  {
   "cell_type": "code",
   "execution_count": 107,
   "metadata": {},
   "outputs": [],
   "source": [
    "high_score_df['Kills'] = pd.to_numeric(high_score_df['Kill #'], downcast='integer')\n",
    "high_score_df['Accuracy'] = pd.to_numeric(high_score_df['Accuracy'], downcast='float')\n",
    "high_score_df['Time'] = pd.to_datetime(high_score_df['Time'], format=('%H:%M:%S'),exact=False)"
   ]
  },
  {
   "cell_type": "markdown",
   "metadata": {},
   "source": [
    "create counter."
   ]
  },
  {
   "cell_type": "code",
   "execution_count": null,
   "metadata": {},
   "outputs": [],
   "source": []
  },
  {
   "cell_type": "code",
   "execution_count": null,
   "metadata": {},
   "outputs": [],
   "source": []
  }
 ],
 "metadata": {
  "interpreter": {
   "hash": "679ca3d7e10d4fea823e60e28cb6f57bfb034a2481868839314afba603aaea83"
  },
  "kernelspec": {
   "display_name": "Python 3.9.7 ('base')",
   "language": "python",
   "name": "python3"
  },
  "language_info": {
   "codemirror_mode": {
    "name": "ipython",
    "version": 3
   },
   "file_extension": ".py",
   "mimetype": "text/x-python",
   "name": "python",
   "nbconvert_exporter": "python",
   "pygments_lexer": "ipython3",
   "version": "3.9.7"
  },
  "orig_nbformat": 2
 },
 "nbformat": 4,
 "nbformat_minor": 2
}
