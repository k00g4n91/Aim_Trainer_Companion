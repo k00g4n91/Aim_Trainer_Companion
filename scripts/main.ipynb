{
 "cells": [
  {
   "cell_type": "markdown",
   "metadata": {},
   "source": [
    "## Dependencies"
   ]
  },
  {
   "cell_type": "code",
   "execution_count": 1,
   "metadata": {
    "tags": []
   },
   "outputs": [],
   "source": [
    "import pandas as pd\n",
    "import numpy as np\n",
    "import os\n",
    "import shutil\n",
    "from datetime import date\n",
    "import csv\n",
    "import time\n",
    "import zipfile\n",
    "import requests\n",
    "import steam\n",
    "from steam.steamid import SteamID\n",
    "from steam.webapi import WebAPI, get\n",
    "import steamleaderboards as sl\n",
    "import os,sys,stat\n",
    "from zipfile import ZipFile, ZipInfo"
   ]
  },
  {
   "cell_type": "markdown",
   "metadata": {},
   "source": [
    "# 1. unpack stats from folder"
   ]
  },
  {
   "cell_type": "markdown",
   "metadata": {},
   "source": [
    "(from zip)"
   ]
  },
  {
   "cell_type": "code",
   "execution_count": 2,
   "metadata": {},
   "outputs": [],
   "source": [
    "# App will find directory on computer or user can input the directory of the stats folder\n",
    "#dataDir = 'G:\\Steam\\steamapps\\common\\FPSAimTrainer\\FPSAimTrainer\\stats_comp.zip'\n",
    "#target = ['Kills:', 'Avg TTK:', 'Score:', 'Scenario:']\n",
    "#temp_folder = '../temp'\n",
    "#\n",
    "## unzip and extract to a temporary folder\n",
    "#with zipfile.ZipFile(dataDir, 'r') as zip_ref:\n",
    "#   zip_ref.extractall(temp_folder) # If files with same filename are already present at extraction location then it will overwrite those files.\n",
    "#"
   ]
  },
  {
   "cell_type": "code",
   "execution_count": 3,
   "metadata": {},
   "outputs": [],
   "source": [
    "#unzipped_stats = temp_folder + '\\stats'\n",
    "#\n",
    "#try:\n",
    "#    stats = pd.read_csv(unzipped_stats)\n",
    "#except:\n",
    "#    stats = pd.DataFrame(columns=['Kills', 'Avg TTK', 'Score', 'Scenario'])"
   ]
  },
  {
   "cell_type": "markdown",
   "metadata": {},
   "source": [
    "FROM DIRECTORY"
   ]
  },
  {
   "cell_type": "code",
   "execution_count": 4,
   "metadata": {
    "tags": []
   },
   "outputs": [],
   "source": [
    "dataDir = 'G:\\Steam\\steamapps\\common\\FPSAimTrainer\\FPSAimTrainer\\stats'\n",
    "target = ['Kills:', 'Avg TTK:', 'Score:', 'Scenario:']\n",
    "\n",
    "try:\n",
    "    stats = pd.read_csv(dataDir + '\\\\stats.csv')\n",
    "except:\n",
    "    stats = pd.DataFrame(columns=['Kills', 'Avg TTK', 'Score', 'Scenario'])"
   ]
  },
  {
   "cell_type": "code",
   "execution_count": 5,
   "metadata": {
    "tags": []
   },
   "outputs": [],
   "source": [
    "# Empty dict to store our csv data\n",
    "data = {}\n",
    "\n",
    "# Go through all the files and store our target data in our empty dictionary, including the datetime of the file.\n",
    "for filename in os.listdir(dataDir):\n",
    "    \n",
    "    f = open(f'{dataDir}/{filename}', 'r')\n",
    "    with f as csv_file:\n",
    "        csv_reader = csv.reader(csv_file)\n",
    "        for line in csv_reader:\n",
    "            try:\n",
    "                if line[0] in target:\n",
    "                    data[(line[0][:-1])] = line[1]     \n",
    "            except IndexError:\n",
    "                continue\n",
    "        f.close()\n",
    "\n",
    "    scenario_date = f'{dataDir}/{filename}'[-29:-10]\n",
    "    data[\"Date\"] = scenario_date\n",
    "    df = pd.DataFrame(data, index=[0])\n",
    "    stats = pd.concat([stats,df]).drop_duplicates().reset_index(drop=True)"
   ]
  },
  {
   "cell_type": "markdown",
   "metadata": {},
   "source": [
    "# CLEAN\n"
   ]
  },
  {
   "cell_type": "code",
   "execution_count": 6,
   "metadata": {},
   "outputs": [
    {
     "data": {
      "text/html": [
       "<div>\n",
       "<style scoped>\n",
       "    .dataframe tbody tr th:only-of-type {\n",
       "        vertical-align: middle;\n",
       "    }\n",
       "\n",
       "    .dataframe tbody tr th {\n",
       "        vertical-align: top;\n",
       "    }\n",
       "\n",
       "    .dataframe thead th {\n",
       "        text-align: right;\n",
       "    }\n",
       "</style>\n",
       "<table border=\"1\" class=\"dataframe\">\n",
       "  <thead>\n",
       "    <tr style=\"text-align: right;\">\n",
       "      <th></th>\n",
       "      <th>Kills</th>\n",
       "      <th>Avg TTK</th>\n",
       "      <th>Score</th>\n",
       "      <th>Scenario</th>\n",
       "      <th>Date</th>\n",
       "    </tr>\n",
       "  </thead>\n",
       "  <tbody>\n",
       "    <tr>\n",
       "      <th>0</th>\n",
       "      <td>2</td>\n",
       "      <td>0</td>\n",
       "      <td>10792.587891</td>\n",
       "      <td>180 Regen Warzone</td>\n",
       "      <td>2021.07.27-22.47.26</td>\n",
       "    </tr>\n",
       "    <tr>\n",
       "      <th>1</th>\n",
       "      <td>12</td>\n",
       "      <td>0</td>\n",
       "      <td>22690.832031</td>\n",
       "      <td>180 Regen Warzone</td>\n",
       "      <td>2021.07.27-22.48.41</td>\n",
       "    </tr>\n",
       "    <tr>\n",
       "      <th>2</th>\n",
       "      <td>7</td>\n",
       "      <td>0</td>\n",
       "      <td>15467.339844</td>\n",
       "      <td>180 Regen Warzone</td>\n",
       "      <td>2021.07.27-22.49.53</td>\n",
       "    </tr>\n",
       "  </tbody>\n",
       "</table>\n",
       "</div>"
      ],
      "text/plain": [
       "  Kills Avg TTK         Score           Scenario                 Date\n",
       "0     2       0  10792.587891  180 Regen Warzone  2021.07.27-22.47.26\n",
       "1    12       0  22690.832031  180 Regen Warzone  2021.07.27-22.48.41\n",
       "2     7       0  15467.339844  180 Regen Warzone  2021.07.27-22.49.53"
      ]
     },
     "execution_count": 6,
     "metadata": {},
     "output_type": "execute_result"
    }
   ],
   "source": [
    "stats.head(3)"
   ]
  },
  {
   "cell_type": "code",
   "execution_count": 7,
   "metadata": {},
   "outputs": [
    {
     "data": {
      "text/plain": [
       "Kills       0\n",
       "Avg TTK     0\n",
       "Score       0\n",
       "Scenario    0\n",
       "Date        0\n",
       "dtype: int64"
      ]
     },
     "execution_count": 7,
     "metadata": {},
     "output_type": "execute_result"
    }
   ],
   "source": [
    "stats.isna().sum() #NO Nan"
   ]
  },
  {
   "cell_type": "code",
   "execution_count": 8,
   "metadata": {},
   "outputs": [
    {
     "data": {
      "text/plain": [
       "0"
      ]
     },
     "execution_count": 8,
     "metadata": {},
     "output_type": "execute_result"
    }
   ],
   "source": [
    "stats.duplicated().sum() #NO duplicates"
   ]
  },
  {
   "cell_type": "code",
   "execution_count": 9,
   "metadata": {},
   "outputs": [],
   "source": [
    "stats['Kills'] = pd.to_numeric(stats['Kills'], downcast='integer')\n",
    "stats['Avg TTK'] = pd.to_numeric(stats['Avg TTK'], downcast='float')\n",
    "stats['Score'] = pd.to_numeric(stats['Score'], downcast='float')\n",
    "stats['Date'] = pd.to_datetime(stats['Date'], yearfirst=True, format=('%Y.%m.%d-%H.%M.%S'),exact=False)"
   ]
  },
  {
   "cell_type": "code",
   "execution_count": 10,
   "metadata": {},
   "outputs": [
    {
     "data": {
      "text/html": [
       "<div>\n",
       "<style scoped>\n",
       "    .dataframe tbody tr th:only-of-type {\n",
       "        vertical-align: middle;\n",
       "    }\n",
       "\n",
       "    .dataframe tbody tr th {\n",
       "        vertical-align: top;\n",
       "    }\n",
       "\n",
       "    .dataframe thead th {\n",
       "        text-align: right;\n",
       "    }\n",
       "</style>\n",
       "<table border=\"1\" class=\"dataframe\">\n",
       "  <thead>\n",
       "    <tr style=\"text-align: right;\">\n",
       "      <th></th>\n",
       "      <th>Kills</th>\n",
       "      <th>Avg TTK</th>\n",
       "      <th>Score</th>\n",
       "      <th>Scenario</th>\n",
       "      <th>Date</th>\n",
       "    </tr>\n",
       "  </thead>\n",
       "  <tbody>\n",
       "    <tr>\n",
       "      <th>0</th>\n",
       "      <td>2</td>\n",
       "      <td>0.0</td>\n",
       "      <td>10792.587891</td>\n",
       "      <td>180 Regen Warzone</td>\n",
       "      <td>2021-07-27 22:47:26</td>\n",
       "    </tr>\n",
       "    <tr>\n",
       "      <th>1</th>\n",
       "      <td>12</td>\n",
       "      <td>0.0</td>\n",
       "      <td>22690.832031</td>\n",
       "      <td>180 Regen Warzone</td>\n",
       "      <td>2021-07-27 22:48:41</td>\n",
       "    </tr>\n",
       "    <tr>\n",
       "      <th>2</th>\n",
       "      <td>7</td>\n",
       "      <td>0.0</td>\n",
       "      <td>15467.339844</td>\n",
       "      <td>180 Regen Warzone</td>\n",
       "      <td>2021-07-27 22:49:53</td>\n",
       "    </tr>\n",
       "    <tr>\n",
       "      <th>3</th>\n",
       "      <td>9</td>\n",
       "      <td>0.0</td>\n",
       "      <td>16614.562500</td>\n",
       "      <td>180 Regen Warzone</td>\n",
       "      <td>2021-07-28 22:45:19</td>\n",
       "    </tr>\n",
       "    <tr>\n",
       "      <th>4</th>\n",
       "      <td>10</td>\n",
       "      <td>0.0</td>\n",
       "      <td>16942.285156</td>\n",
       "      <td>180 Regen Warzone</td>\n",
       "      <td>2021-07-28 22:46:26</td>\n",
       "    </tr>\n",
       "  </tbody>\n",
       "</table>\n",
       "</div>"
      ],
      "text/plain": [
       "   Kills  Avg TTK         Score           Scenario                Date\n",
       "0      2      0.0  10792.587891  180 Regen Warzone 2021-07-27 22:47:26\n",
       "1     12      0.0  22690.832031  180 Regen Warzone 2021-07-27 22:48:41\n",
       "2      7      0.0  15467.339844  180 Regen Warzone 2021-07-27 22:49:53\n",
       "3      9      0.0  16614.562500  180 Regen Warzone 2021-07-28 22:45:19\n",
       "4     10      0.0  16942.285156  180 Regen Warzone 2021-07-28 22:46:26"
      ]
     },
     "execution_count": 10,
     "metadata": {},
     "output_type": "execute_result"
    }
   ],
   "source": [
    "stats.head()"
   ]
  },
  {
   "cell_type": "markdown",
   "metadata": {},
   "source": [
    "# SAVE"
   ]
  },
  {
   "cell_type": "code",
   "execution_count": 11,
   "metadata": {},
   "outputs": [],
   "source": [
    "stats.to_csv(\"../data/stats.csv\", index=False)"
   ]
  },
  {
   "cell_type": "markdown",
   "metadata": {},
   "source": [
    "# 2. CREATE COUNTER THAT COUNTS UP MY HIGHEST SCORING GAME IN REAL-TIME"
   ]
  },
  {
   "cell_type": "markdown",
   "metadata": {},
   "source": [
    "### Search Bar"
   ]
  },
  {
   "cell_type": "code",
   "execution_count": 12,
   "metadata": {},
   "outputs": [
    {
     "data": {
      "text/plain": [
       "'patTS Voltaic Silver'"
      ]
     },
     "execution_count": 12,
     "metadata": {},
     "output_type": "execute_result"
    }
   ],
   "source": [
    "import difflib\n",
    "scenario_names = (stats['Scenario'].unique()).astype(str)\n",
    "user_input = 'patts voltaic silver' #tkinter search bar\n",
    "closest_match = (difflib.get_close_matches(str(user_input), scenario_names, n=1,cutoff=0.45).pop(0))\n",
    "closest_match"
   ]
  },
  {
   "cell_type": "code",
   "execution_count": 13,
   "metadata": {},
   "outputs": [
    {
     "data": {
      "text/html": [
       "<div>\n",
       "<style scoped>\n",
       "    .dataframe tbody tr th:only-of-type {\n",
       "        vertical-align: middle;\n",
       "    }\n",
       "\n",
       "    .dataframe tbody tr th {\n",
       "        vertical-align: top;\n",
       "    }\n",
       "\n",
       "    .dataframe thead th {\n",
       "        text-align: right;\n",
       "    }\n",
       "</style>\n",
       "<table border=\"1\" class=\"dataframe\">\n",
       "  <thead>\n",
       "    <tr style=\"text-align: right;\">\n",
       "      <th></th>\n",
       "      <th>Kills</th>\n",
       "      <th>Avg TTK</th>\n",
       "      <th>Score</th>\n",
       "      <th>Scenario</th>\n",
       "      <th>Date</th>\n",
       "    </tr>\n",
       "  </thead>\n",
       "  <tbody>\n",
       "    <tr>\n",
       "      <th>1849</th>\n",
       "      <td>83</td>\n",
       "      <td>0.734935</td>\n",
       "      <td>83.00</td>\n",
       "      <td>patTS Voltaic Silver</td>\n",
       "      <td>2022-05-26 19:53:31</td>\n",
       "    </tr>\n",
       "    <tr>\n",
       "      <th>1850</th>\n",
       "      <td>84</td>\n",
       "      <td>0.726186</td>\n",
       "      <td>84.00</td>\n",
       "      <td>patTS Voltaic Silver</td>\n",
       "      <td>2022-05-26 19:54:46</td>\n",
       "    </tr>\n",
       "    <tr>\n",
       "      <th>1851</th>\n",
       "      <td>85</td>\n",
       "      <td>0.717643</td>\n",
       "      <td>85.00</td>\n",
       "      <td>patTS Voltaic Silver</td>\n",
       "      <td>2022-05-26 19:55:52</td>\n",
       "    </tr>\n",
       "    <tr>\n",
       "      <th>1852</th>\n",
       "      <td>85</td>\n",
       "      <td>0.717643</td>\n",
       "      <td>85.00</td>\n",
       "      <td>patTS Voltaic Silver</td>\n",
       "      <td>2022-05-26 19:56:59</td>\n",
       "    </tr>\n",
       "    <tr>\n",
       "      <th>1853</th>\n",
       "      <td>84</td>\n",
       "      <td>0.726186</td>\n",
       "      <td>84.50</td>\n",
       "      <td>patTS Voltaic Silver</td>\n",
       "      <td>2022-05-26 19:58:08</td>\n",
       "    </tr>\n",
       "    <tr>\n",
       "      <th>1854</th>\n",
       "      <td>77</td>\n",
       "      <td>0.792203</td>\n",
       "      <td>77.00</td>\n",
       "      <td>patTS Voltaic Silver</td>\n",
       "      <td>2022-05-29 15:00:42</td>\n",
       "    </tr>\n",
       "    <tr>\n",
       "      <th>1855</th>\n",
       "      <td>79</td>\n",
       "      <td>0.772147</td>\n",
       "      <td>79.00</td>\n",
       "      <td>patTS Voltaic Silver</td>\n",
       "      <td>2022-05-29 15:01:47</td>\n",
       "    </tr>\n",
       "    <tr>\n",
       "      <th>1856</th>\n",
       "      <td>79</td>\n",
       "      <td>0.772147</td>\n",
       "      <td>79.75</td>\n",
       "      <td>patTS Voltaic Silver</td>\n",
       "      <td>2022-05-29 15:02:51</td>\n",
       "    </tr>\n",
       "    <tr>\n",
       "      <th>1857</th>\n",
       "      <td>80</td>\n",
       "      <td>0.762496</td>\n",
       "      <td>80.00</td>\n",
       "      <td>patTS Voltaic Silver</td>\n",
       "      <td>2022-05-29 15:04:27</td>\n",
       "    </tr>\n",
       "    <tr>\n",
       "      <th>1858</th>\n",
       "      <td>78</td>\n",
       "      <td>0.782047</td>\n",
       "      <td>78.50</td>\n",
       "      <td>patTS Voltaic Silver</td>\n",
       "      <td>2022-05-29 15:05:32</td>\n",
       "    </tr>\n",
       "    <tr>\n",
       "      <th>1859</th>\n",
       "      <td>75</td>\n",
       "      <td>0.813329</td>\n",
       "      <td>75.75</td>\n",
       "      <td>patTS Voltaic Silver</td>\n",
       "      <td>2022-05-30 20:43:56</td>\n",
       "    </tr>\n",
       "    <tr>\n",
       "      <th>1860</th>\n",
       "      <td>77</td>\n",
       "      <td>0.792203</td>\n",
       "      <td>77.50</td>\n",
       "      <td>patTS Voltaic Silver</td>\n",
       "      <td>2022-05-30 20:45:34</td>\n",
       "    </tr>\n",
       "    <tr>\n",
       "      <th>1861</th>\n",
       "      <td>79</td>\n",
       "      <td>0.772147</td>\n",
       "      <td>79.25</td>\n",
       "      <td>patTS Voltaic Silver</td>\n",
       "      <td>2022-05-30 20:46:56</td>\n",
       "    </tr>\n",
       "    <tr>\n",
       "      <th>1862</th>\n",
       "      <td>78</td>\n",
       "      <td>0.782047</td>\n",
       "      <td>78.75</td>\n",
       "      <td>patTS Voltaic Silver</td>\n",
       "      <td>2022-06-01 20:22:31</td>\n",
       "    </tr>\n",
       "    <tr>\n",
       "      <th>1863</th>\n",
       "      <td>80</td>\n",
       "      <td>0.762496</td>\n",
       "      <td>80.75</td>\n",
       "      <td>patTS Voltaic Silver</td>\n",
       "      <td>2022-06-01 20:23:43</td>\n",
       "    </tr>\n",
       "    <tr>\n",
       "      <th>1864</th>\n",
       "      <td>81</td>\n",
       "      <td>0.753082</td>\n",
       "      <td>81.25</td>\n",
       "      <td>patTS Voltaic Silver</td>\n",
       "      <td>2022-06-01 20:25:08</td>\n",
       "    </tr>\n",
       "    <tr>\n",
       "      <th>1865</th>\n",
       "      <td>81</td>\n",
       "      <td>0.753082</td>\n",
       "      <td>81.75</td>\n",
       "      <td>patTS Voltaic Silver</td>\n",
       "      <td>2022-06-01 20:26:16</td>\n",
       "    </tr>\n",
       "    <tr>\n",
       "      <th>1866</th>\n",
       "      <td>81</td>\n",
       "      <td>0.753082</td>\n",
       "      <td>81.25</td>\n",
       "      <td>patTS Voltaic Silver</td>\n",
       "      <td>2022-06-01 20:27:44</td>\n",
       "    </tr>\n",
       "  </tbody>\n",
       "</table>\n",
       "</div>"
      ],
      "text/plain": [
       "      Kills   Avg TTK  Score              Scenario                Date\n",
       "1849     83  0.734935  83.00  patTS Voltaic Silver 2022-05-26 19:53:31\n",
       "1850     84  0.726186  84.00  patTS Voltaic Silver 2022-05-26 19:54:46\n",
       "1851     85  0.717643  85.00  patTS Voltaic Silver 2022-05-26 19:55:52\n",
       "1852     85  0.717643  85.00  patTS Voltaic Silver 2022-05-26 19:56:59\n",
       "1853     84  0.726186  84.50  patTS Voltaic Silver 2022-05-26 19:58:08\n",
       "1854     77  0.792203  77.00  patTS Voltaic Silver 2022-05-29 15:00:42\n",
       "1855     79  0.772147  79.00  patTS Voltaic Silver 2022-05-29 15:01:47\n",
       "1856     79  0.772147  79.75  patTS Voltaic Silver 2022-05-29 15:02:51\n",
       "1857     80  0.762496  80.00  patTS Voltaic Silver 2022-05-29 15:04:27\n",
       "1858     78  0.782047  78.50  patTS Voltaic Silver 2022-05-29 15:05:32\n",
       "1859     75  0.813329  75.75  patTS Voltaic Silver 2022-05-30 20:43:56\n",
       "1860     77  0.792203  77.50  patTS Voltaic Silver 2022-05-30 20:45:34\n",
       "1861     79  0.772147  79.25  patTS Voltaic Silver 2022-05-30 20:46:56\n",
       "1862     78  0.782047  78.75  patTS Voltaic Silver 2022-06-01 20:22:31\n",
       "1863     80  0.762496  80.75  patTS Voltaic Silver 2022-06-01 20:23:43\n",
       "1864     81  0.753082  81.25  patTS Voltaic Silver 2022-06-01 20:25:08\n",
       "1865     81  0.753082  81.75  patTS Voltaic Silver 2022-06-01 20:26:16\n",
       "1866     81  0.753082  81.25  patTS Voltaic Silver 2022-06-01 20:27:44"
      ]
     },
     "execution_count": 13,
     "metadata": {},
     "output_type": "execute_result"
    }
   ],
   "source": [
    "scenario = stats.loc[stats['Scenario'] == closest_match]\n",
    "scenario"
   ]
  },
  {
   "cell_type": "markdown",
   "metadata": {},
   "source": [
    "### Date of highest score"
   ]
  },
  {
   "cell_type": "code",
   "execution_count": 14,
   "metadata": {},
   "outputs": [
    {
     "data": {
      "text/plain": [
       "'2022-05-26 19:55:52'"
      ]
     },
     "execution_count": 14,
     "metadata": {},
     "output_type": "execute_result"
    }
   ],
   "source": [
    "import re\n",
    "\n",
    "high_score_date = []\n",
    "\n",
    "if sum(scenario['Score']) == 0.0:\n",
    "    high_score_date.append(scenario.sort_values('Kills')['Date'].iloc[-1])\n",
    "elif sum(scenario['Kills']) > 0 and sum(scenario['Score']) > 0.0:\n",
    "    high_score_date.append(scenario.sort_values('Score')['Date'].iloc[-1])\n",
    "\n",
    "hs_date = str(high_score_date[0])\n",
    "hs_date"
   ]
  },
  {
   "cell_type": "markdown",
   "metadata": {},
   "source": [
    "### Now we search for the .csv file with the highest score"
   ]
  },
  {
   "cell_type": "code",
   "execution_count": 15,
   "metadata": {},
   "outputs": [],
   "source": [
    "hs_year = hs_date[:4]\n",
    "hs_month = hs_date[5:7]\n",
    "hs_day = hs_date[8:10]\n",
    "hs_hour = hs_date[11:13]\n",
    "hs_min = hs_date[14:16]\n",
    "hs_sec = hs_date[17:19]"
   ]
  },
  {
   "cell_type": "code",
   "execution_count": 20,
   "metadata": {},
   "outputs": [
    {
     "data": {
      "text/plain": [
       "[]"
      ]
     },
     "execution_count": 20,
     "metadata": {},
     "output_type": "execute_result"
    }
   ],
   "source": [
    "import re\n",
    "import time\n",
    "\n",
    "Kill = []\n",
    "Time = []\n",
    "Acc = []\n",
    "Challenge_start = []\n",
    "\n",
    "for filename in os.listdir(dataDir):\n",
    "    if f'{hs_year}.{hs_month}.{hs_day}-{hs_hour}.{hs_min}.{hs_sec} Stats.csv' in filename:\n",
    "        f = open(f'{dataDir}/{filename}', 'r')\n",
    "        with f as csv_file:\n",
    "            csv_reader = csv.reader(csv_file)\n",
    "            for line in csv_reader:\n",
    "                try:\n",
    "                    Kill.append(line[0])\n",
    "                    Time.append(line[1])\n",
    "                    Acc.append(line[7])\n",
    "                except Exception:\n",
    "                    break \n",
    "            for line in csv_reader:\n",
    "                try:\n",
    "                    if line[0] in 'Challenge Start:' and line[1] not in 'H:M:S.s':\n",
    "                        Challenge_start.append(line[1])\n",
    "                    else:\n",
    "                        start = Time[0] - (Time[-1]-Time[0]) # deduce length between chalenge start and first kill\n",
    "                        Challenge_start.append(start)\n",
    "                except Exception:\n",
    "                    continue              \n",
    "        f.close()\n",
    "Challenge_start"
   ]
  },
  {
   "cell_type": "code",
   "execution_count": null,
   "metadata": {},
   "outputs": [
    {
     "data": {
      "text/html": [
       "<div>\n",
       "<style scoped>\n",
       "    .dataframe tbody tr th:only-of-type {\n",
       "        vertical-align: middle;\n",
       "    }\n",
       "\n",
       "    .dataframe tbody tr th {\n",
       "        vertical-align: top;\n",
       "    }\n",
       "\n",
       "    .dataframe thead th {\n",
       "        text-align: right;\n",
       "    }\n",
       "</style>\n",
       "<table border=\"1\" class=\"dataframe\">\n",
       "  <thead>\n",
       "    <tr style=\"text-align: right;\">\n",
       "      <th></th>\n",
       "      <th>Kill #</th>\n",
       "      <th>Time</th>\n",
       "      <th>Accuracy</th>\n",
       "    </tr>\n",
       "  </thead>\n",
       "  <tbody>\n",
       "    <tr>\n",
       "      <th>0</th>\n",
       "      <td>0</td>\n",
       "      <td>18:01:32.082</td>\n",
       "      <td>0</td>\n",
       "    </tr>\n",
       "    <tr>\n",
       "      <th>1</th>\n",
       "      <td>1</td>\n",
       "      <td>18:01:33.001</td>\n",
       "      <td>1</td>\n",
       "    </tr>\n",
       "    <tr>\n",
       "      <th>2</th>\n",
       "      <td>2</td>\n",
       "      <td>18:01:34.055</td>\n",
       "      <td>0.5</td>\n",
       "    </tr>\n",
       "    <tr>\n",
       "      <th>3</th>\n",
       "      <td>3</td>\n",
       "      <td>18:01:35.103</td>\n",
       "      <td>1</td>\n",
       "    </tr>\n",
       "    <tr>\n",
       "      <th>4</th>\n",
       "      <td>4</td>\n",
       "      <td>18:01:35.755</td>\n",
       "      <td>1</td>\n",
       "    </tr>\n",
       "  </tbody>\n",
       "</table>\n",
       "</div>"
      ],
      "text/plain": [
       "  Kill #          Time Accuracy\n",
       "0      0  18:01:32.082        0\n",
       "1      1  18:01:33.001        1\n",
       "2      2  18:01:34.055      0.5\n",
       "3      3  18:01:35.103        1\n",
       "4      4  18:01:35.755        1"
      ]
     },
     "execution_count": 20,
     "metadata": {},
     "output_type": "execute_result"
    }
   ],
   "source": [
    "data_tuples = list(zip(Kill,Time,Acc))\n",
    "\n",
    "high_score_df = (pd.DataFrame(data_tuples,columns=('Kill #','Time', 'Accuracy'))\n",
    "                    .replace(['Kill #','Accuracy'], 0)\n",
    "                    ).replace('Timestamp',''.join(Challenge_start))\n",
    "\n",
    "high_score_df.head()"
   ]
  },
  {
   "cell_type": "markdown",
   "metadata": {},
   "source": [
    "CLEAN (i need the dates column type to be float in order to make my calculations)"
   ]
  },
  {
   "cell_type": "code",
   "execution_count": null,
   "metadata": {},
   "outputs": [
    {
     "data": {
      "text/html": [
       "<div>\n",
       "<style scoped>\n",
       "    .dataframe tbody tr th:only-of-type {\n",
       "        vertical-align: middle;\n",
       "    }\n",
       "\n",
       "    .dataframe tbody tr th {\n",
       "        vertical-align: top;\n",
       "    }\n",
       "\n",
       "    .dataframe thead th {\n",
       "        text-align: right;\n",
       "    }\n",
       "</style>\n",
       "<table border=\"1\" class=\"dataframe\">\n",
       "  <thead>\n",
       "    <tr style=\"text-align: right;\">\n",
       "      <th></th>\n",
       "      <th>Kill #</th>\n",
       "      <th>Time</th>\n",
       "      <th>Accuracy</th>\n",
       "      <th>ms</th>\n",
       "    </tr>\n",
       "  </thead>\n",
       "  <tbody>\n",
       "    <tr>\n",
       "      <th>0</th>\n",
       "      <td>0</td>\n",
       "      <td>1900-01-01 18:01:32.082</td>\n",
       "      <td>0.0</td>\n",
       "      <td>0.0</td>\n",
       "    </tr>\n",
       "    <tr>\n",
       "      <th>1</th>\n",
       "      <td>1</td>\n",
       "      <td>1900-01-01 18:01:33.001</td>\n",
       "      <td>1.0</td>\n",
       "      <td>919.0</td>\n",
       "    </tr>\n",
       "    <tr>\n",
       "      <th>2</th>\n",
       "      <td>2</td>\n",
       "      <td>1900-01-01 18:01:34.055</td>\n",
       "      <td>0.5</td>\n",
       "      <td>1973.0</td>\n",
       "    </tr>\n",
       "    <tr>\n",
       "      <th>3</th>\n",
       "      <td>3</td>\n",
       "      <td>1900-01-01 18:01:35.103</td>\n",
       "      <td>1.0</td>\n",
       "      <td>3021.0</td>\n",
       "    </tr>\n",
       "    <tr>\n",
       "      <th>4</th>\n",
       "      <td>4</td>\n",
       "      <td>1900-01-01 18:01:35.755</td>\n",
       "      <td>1.0</td>\n",
       "      <td>3673.0</td>\n",
       "    </tr>\n",
       "    <tr>\n",
       "      <th>...</th>\n",
       "      <td>...</td>\n",
       "      <td>...</td>\n",
       "      <td>...</td>\n",
       "      <td>...</td>\n",
       "    </tr>\n",
       "    <tr>\n",
       "      <th>948</th>\n",
       "      <td>948</td>\n",
       "      <td>1900-01-01 18:11:28.245</td>\n",
       "      <td>1.0</td>\n",
       "      <td>596163.0</td>\n",
       "    </tr>\n",
       "    <tr>\n",
       "      <th>949</th>\n",
       "      <td>949</td>\n",
       "      <td>1900-01-01 18:11:29.613</td>\n",
       "      <td>0.5</td>\n",
       "      <td>597531.0</td>\n",
       "    </tr>\n",
       "    <tr>\n",
       "      <th>950</th>\n",
       "      <td>950</td>\n",
       "      <td>1900-01-01 18:11:30.081</td>\n",
       "      <td>1.0</td>\n",
       "      <td>597999.0</td>\n",
       "    </tr>\n",
       "    <tr>\n",
       "      <th>951</th>\n",
       "      <td>951</td>\n",
       "      <td>1900-01-01 18:11:30.926</td>\n",
       "      <td>1.0</td>\n",
       "      <td>598844.0</td>\n",
       "    </tr>\n",
       "    <tr>\n",
       "      <th>952</th>\n",
       "      <td>952</td>\n",
       "      <td>1900-01-01 18:11:31.937</td>\n",
       "      <td>0.5</td>\n",
       "      <td>599855.0</td>\n",
       "    </tr>\n",
       "  </tbody>\n",
       "</table>\n",
       "<p>953 rows × 4 columns</p>\n",
       "</div>"
      ],
      "text/plain": [
       "     Kill #                    Time  Accuracy        ms\n",
       "0         0 1900-01-01 18:01:32.082       0.0       0.0\n",
       "1         1 1900-01-01 18:01:33.001       1.0     919.0\n",
       "2         2 1900-01-01 18:01:34.055       0.5    1973.0\n",
       "3         3 1900-01-01 18:01:35.103       1.0    3021.0\n",
       "4         4 1900-01-01 18:01:35.755       1.0    3673.0\n",
       "..      ...                     ...       ...       ...\n",
       "948     948 1900-01-01 18:11:28.245       1.0  596163.0\n",
       "949     949 1900-01-01 18:11:29.613       0.5  597531.0\n",
       "950     950 1900-01-01 18:11:30.081       1.0  597999.0\n",
       "951     951 1900-01-01 18:11:30.926       1.0  598844.0\n",
       "952     952 1900-01-01 18:11:31.937       0.5  599855.0\n",
       "\n",
       "[953 rows x 4 columns]"
      ]
     },
     "execution_count": 21,
     "metadata": {},
     "output_type": "execute_result"
    }
   ],
   "source": [
    "high_score_df['Kill #'] = pd.to_numeric(high_score_df['Kill #'], downcast='integer')\n",
    "high_score_df['Accuracy'] = pd.to_numeric(high_score_df['Accuracy'], downcast='float')\n",
    "high_score_df['Time'] = pd.to_datetime(high_score_df['Time'],format=('%H:%M:%S.%f'),exact=False)\n",
    "high_score_df['ms'] = (high_score_df['Time'] - high_score_df['Time'].iloc[0]) / pd.to_timedelta('1ms')\n",
    "high_score_df"
   ]
  },
  {
   "cell_type": "markdown",
   "metadata": {},
   "source": [
    "## create counter."
   ]
  },
  {
   "cell_type": "code",
   "execution_count": null,
   "metadata": {},
   "outputs": [
    {
     "name": "stdout",
     "output_type": "stream",
     "text": [
      "GO\n",
      "Score/Kills: 1\n",
      "Score/Kills: 2\n",
      "Score/Kills: 3\n",
      "Score/Kills: 4\n",
      "Score/Kills: 5\n",
      "Score/Kills: 6\n",
      "Score/Kills: 7\n",
      "Score/Kills: 8\n",
      "Score/Kills: 9\n",
      "Score/Kills: 10\n",
      "Score/Kills: 11\n",
      "Score/Kills: 12\n",
      "Score/Kills: 13\n",
      "Score/Kills: 14\n"
     ]
    },
    {
     "ename": "KeyboardInterrupt",
     "evalue": "",
     "output_type": "error",
     "traceback": [
      "\u001b[1;31m---------------------------------------------------------------------------\u001b[0m",
      "\u001b[1;31mKeyboardInterrupt\u001b[0m                         Traceback (most recent call last)",
      "\u001b[1;32m~\\AppData\\Local\\Temp/ipykernel_21652/1205664721.py\u001b[0m in \u001b[0;36m<module>\u001b[1;34m\u001b[0m\n\u001b[0;32m      8\u001b[0m         \u001b[0mprint\u001b[0m\u001b[1;33m(\u001b[0m\u001b[1;34mf'Score/Kills: {score_kills}'\u001b[0m\u001b[1;33m)\u001b[0m\u001b[1;33m\u001b[0m\u001b[1;33m\u001b[0m\u001b[0m\n\u001b[0;32m      9\u001b[0m     \u001b[1;32melse\u001b[0m\u001b[1;33m:\u001b[0m\u001b[1;33m\u001b[0m\u001b[1;33m\u001b[0m\u001b[0m\n\u001b[1;32m---> 10\u001b[1;33m         \u001b[0mtime\u001b[0m\u001b[1;33m.\u001b[0m\u001b[0msleep\u001b[0m\u001b[1;33m(\u001b[0m\u001b[1;33m(\u001b[0m\u001b[0mhigh_score_df\u001b[0m\u001b[1;33m[\u001b[0m\u001b[1;34m'ms'\u001b[0m\u001b[1;33m]\u001b[0m\u001b[1;33m[\u001b[0m\u001b[0mindex\u001b[0m\u001b[1;33m+\u001b[0m\u001b[1;36m1\u001b[0m\u001b[1;33m]\u001b[0m \u001b[1;33m-\u001b[0m \u001b[0mhigh_score_df\u001b[0m\u001b[1;33m[\u001b[0m\u001b[1;34m'ms'\u001b[0m\u001b[1;33m]\u001b[0m\u001b[1;33m[\u001b[0m\u001b[0mindex\u001b[0m\u001b[1;33m]\u001b[0m\u001b[1;33m)\u001b[0m\u001b[1;33m/\u001b[0m\u001b[1;36m1000\u001b[0m\u001b[1;33m)\u001b[0m\u001b[1;33m\u001b[0m\u001b[1;33m\u001b[0m\u001b[0m\n\u001b[0m\u001b[0;32m     11\u001b[0m         \u001b[0mscore_kills\u001b[0m \u001b[1;33m+=\u001b[0m \u001b[1;36m1\u001b[0m\u001b[1;33m\u001b[0m\u001b[1;33m\u001b[0m\u001b[0m\n\u001b[0;32m     12\u001b[0m         \u001b[0mprint\u001b[0m\u001b[1;33m(\u001b[0m\u001b[1;34mf'Score/Kills: {score_kills}'\u001b[0m\u001b[1;33m)\u001b[0m\u001b[1;33m\u001b[0m\u001b[1;33m\u001b[0m\u001b[0m\n",
      "\u001b[1;31mKeyboardInterrupt\u001b[0m: "
     ]
    }
   ],
   "source": [
    "score_kills = 0\n",
    "\n",
    "for index, value in enumerate(high_score_df['ms']):\n",
    "    if value == 0.0:\n",
    "        print('GO')      \n",
    "        time.sleep((high_score_df['ms'][1])/1000)\n",
    "        score_kills += 1\n",
    "        print(f'Score/Kills: {score_kills}')\n",
    "    else:\n",
    "        time.sleep((high_score_df['ms'][index+1] - high_score_df['ms'][index])/1000)\n",
    "        score_kills += 1\n",
    "        print(f'Score/Kills: {score_kills}')\n",
    "print('done')"
   ]
  },
  {
   "cell_type": "code",
   "execution_count": null,
   "metadata": {},
   "outputs": [],
   "source": []
  }
 ],
 "metadata": {
  "interpreter": {
   "hash": "679ca3d7e10d4fea823e60e28cb6f57bfb034a2481868839314afba603aaea83"
  },
  "kernelspec": {
   "display_name": "Python 3.9.7 ('base')",
   "language": "python",
   "name": "python3"
  },
  "language_info": {
   "codemirror_mode": {
    "name": "ipython",
    "version": 3
   },
   "file_extension": ".py",
   "mimetype": "text/x-python",
   "name": "python",
   "nbconvert_exporter": "python",
   "pygments_lexer": "ipython3",
   "version": "3.9.7"
  },
  "orig_nbformat": 2
 },
 "nbformat": 4,
 "nbformat_minor": 2
}
