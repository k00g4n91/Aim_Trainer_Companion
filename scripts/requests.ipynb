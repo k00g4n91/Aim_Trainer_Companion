{
 "cells": [
  {
   "cell_type": "code",
   "execution_count": 7,
   "metadata": {},
   "outputs": [],
   "source": [
    "import requests\n",
    "import steam\n",
    "import pandas as pd\n",
    "from steam.steamid import SteamID\n",
    "from steam.webapi import WebAPI, get\n",
    "import steamleaderboards as sl\n",
    "\n",
    "stats = pd.read_csv('../data/stats.csv')"
   ]
  },
  {
   "cell_type": "markdown",
   "metadata": {},
   "source": [
    "# DOWNLOAD THE LEADERBOARD\n",
    "- MAKE GRAPHS OF USERSRANKING IN COMPARISON TO THE REST OF THE USERS."
   ]
  },
  {
   "cell_type": "code",
   "execution_count": 8,
   "metadata": {},
   "outputs": [],
   "source": [
    "# To use steamleaderboards, first create a LeaderboardGroup for the desired game.\n",
    "api_key = 'B491BF335C5EA291FF13B4B213C4578A'\n",
    "kovaaks_app_id = '824270'\n",
    "lbgroup = sl.LeaderboardGroup(kovaaks_app_id)"
   ]
  },
  {
   "cell_type": "code",
   "execution_count": 9,
   "metadata": {},
   "outputs": [
    {
     "data": {
      "text/plain": [
       "118"
      ]
     },
     "execution_count": 9,
     "metadata": {},
     "output_type": "execute_result"
    }
   ],
   "source": [
    "scenario_names = stats['Scenario'].unique()\n",
    "len(scenario_names)"
   ]
  },
  {
   "cell_type": "code",
   "execution_count": null,
   "metadata": {},
   "outputs": [],
   "source": [
    "import requests\n",
    "import json\n",
    "from datetime import datetime, timedelta\n",
    "import time\n",
    "from utils import default\n",
    "\n",
    "class Steam():\n",
    "  def __init__(self):\n",
    "    self.version = \"1.1.0\"\n",
    "    config = default.config()   # Calling func from Utils\\deafault.py\n",
    "    self.key =  config[\"APIKey\"]# Enter API key here (Without doing so you will 100% get a 401 or 404 error)\n",
    "    if self.key == \"\":\n",
    "        self.key = input(\"Before continuing please type in your SteamAPI key\")\n",
    "    self.url = f\"https://api.steampowered.com/ISteamUser/GetPlayerSummaries/v0002/?key={self.key}&steamids=\"\n",
    "    \n",
    "    \n",
    "    \n",
    "    \n",
    "    steamID = 0     # This loop catches the wrong type of steamID and stops the code from crashing if so.\n",
    "    while True:\n",
    "      try:\n",
    "        steamID = int(input(\"Please enter a valid Steam64 ID, (NOTE: any other form of ID will not work) \\n\"))   #Cause people may enter thr wrong type of steamID, this catches it\n",
    "      except ValueError:\n",
    "        print(\"Could not find user, returning to input\\n\\n\\n\\n\")\n",
    "        time.sleep(3)\n",
    "        continue  # The cycle continues (Bo2 references Ftw)\n",
    "      else:\n",
    "        break   # Break cycle\n",
    "      \n",
    "      \n",
    "      \n",
    "    steamIDStr = str(steamID)     #Converts the variable int from the above test into a str so it registers in the url\n",
    "    resp = requests.get(self.url+steamIDStr)\n",
    "         \n",
    "     \n",
    "    \n",
    "    # HTTP checking due to servers being inconsistant\n",
    "\n",
    "    \n",
    "    \n",
    "    if resp.status_code == 200:\n",
    "        print(\"Successfully authorized by server/Key access is granted\\n\\n\\n\\n\")\n",
    "        time.sleep(3)\n",
    "       \n",
    "      \n",
    "    if resp.status_code != 200:\n",
    "      print(f\"\\n\\n\\n\\nHTTP Error {resp.status_code}, please try again or contact the developer\")\n",
    "      time.sleep(3)\n",
    "      Steam()\n",
    "\n",
    "\n",
    "\n",
    "    # API Parser (Make into a function for better optimization upon next update)\n",
    "\n",
    "    url = resp\n",
    "\n",
    "    data = url.text\n",
    "\n",
    "    parsed = json.loads(data)\n",
    "    \n",
    "    \n",
    "    \n",
    "    if not parsed['response']['players']:   # Catches wrong stem IDs and loops back to start to stop code from crashing lolol  \n",
    "      print(\"Invalid Steam64 ID, please try again\\n\")\n",
    "      Steam()\n",
    "   \n",
    "    \n",
    "    steamID = parsed[\"response\"][\"players\"][0][\"steamid\"]\n",
    "    pname = parsed[\"response\"][\"players\"][0][\"personaname\"]\n",
    "\n",
    "    avatar = parsed[\"response\"][\"players\"][0][\"avatarfull\"]\n",
    "\n",
    "    pfurl = parsed[\"response\"][\"players\"][0][\"profileurl\"]\n",
    "\n",
    "\n",
    "\n",
    "    #  Due to certain areas of the API not returning any Dict when keyvalue is None, had to loop to see if a players \"fullname\" was there.\n",
    "\n",
    "    fname = parsed.get(\"response\", {}).get(\"players\", [{}])[0].get(\"realname\", None)\n",
    "\n",
    "    onstatus = parsed[\"response\"][\"players\"][0][\"personastate\"]\n",
    "\n",
    "    acc_creation = parsed[\"response\"][\"players\"][0][\"timecreated\"]\n",
    "\n",
    "    lastlog = parsed[\"response\"][\"players\"][0][\"lastlogoff\"]\n",
    "\n",
    "    created = (datetime.fromtimestamp(acc_creation) - timedelta(hours=2)).strftime('%Y-%m-%d %H:%M:%S')\n",
    "\n",
    "    logoff = (datetime.fromtimestamp(lastlog) - timedelta(hours=2)).strftime('%Y-%m-%d %H:%M:%S')   # By default, steam uses UNIX time to measure, making Vars to normalize to GMT\n",
    "\n",
    "\n",
    "    # SteamAPI gives variable online status, this sorts the value of key into a response\n",
    "\n",
    "    if onstatus == 1:\n",
    "      bar = \"Online\"\n",
    "    elif onstatus == [2, 3, 4]:    \n",
    "      bar = \"Busy/Away/Snoozing\"\n",
    "    elif onstatus == [5, 6]:\n",
    "      bar = \"Looking to play/Trade\"\n",
    "    else:\n",
    "      bar = \"Offline/Private\"\n",
    "\n",
    "\n",
    "    print(f\"Steam64 ID: {steamID} \\n PersonaName: {pname} \\n Link to full avatar:{avatar}\\n Real-Name: {fname}\\n Profile URL: {pfurl}\\n Online Status: {bar}\\n Account creation: {created}\\n Last Steam Log off: {logoff}\")\n",
    "    foo = input(\"\\nType 'yes' to input another users ID\\n\")\n",
    "    if 'yes' in foo:\n",
    "        Steam()\n",
    "    else:\n",
    "        print(f\"\\n\\n\\nThank you for using the SteamAPI console v{self.version} made by 5ifty\")\n",
    "        time.sleep(5)\n",
    "        quit()\n",
    "        \n",
    "\n",
    "        \n",
    "if __name__ == '__main__':\n",
    "    Steam()"
   ]
  },
  {
   "cell_type": "code",
   "execution_count": null,
   "metadata": {},
   "outputs": [],
   "source": []
  },
  {
   "cell_type": "code",
   "execution_count": null,
   "metadata": {},
   "outputs": [],
   "source": []
  },
  {
   "cell_type": "code",
   "execution_count": null,
   "metadata": {},
   "outputs": [],
   "source": []
  },
  {
   "cell_type": "code",
   "execution_count": null,
   "metadata": {},
   "outputs": [],
   "source": []
  },
  {
   "cell_type": "code",
   "execution_count": null,
   "metadata": {},
   "outputs": [],
   "source": []
  },
  {
   "cell_type": "code",
   "execution_count": null,
   "metadata": {},
   "outputs": [
    {
     "ename": "AttributeError",
     "evalue": "'WebAPI' object has no attribute 'get'",
     "output_type": "error",
     "traceback": [
      "\u001b[1;31m---------------------------------------------------------------------------\u001b[0m",
      "\u001b[1;31mAttributeError\u001b[0m                            Traceback (most recent call last)",
      "\u001b[1;32m~\\AppData\\Local\\Temp/ipykernel_19920/705406139.py\u001b[0m in \u001b[0;36m<module>\u001b[1;34m\u001b[0m\n\u001b[0;32m      4\u001b[0m \u001b[0mapi\u001b[0m \u001b[1;33m=\u001b[0m \u001b[0mWebAPI\u001b[0m\u001b[1;33m(\u001b[0m\u001b[0mkey\u001b[0m\u001b[1;33m=\u001b[0m\u001b[1;34m'B491BF335C5EA291FF13B4B213C4578A'\u001b[0m\u001b[1;33m)\u001b[0m\u001b[1;33m\u001b[0m\u001b[1;33m\u001b[0m\u001b[0m\n\u001b[0;32m      5\u001b[0m \u001b[1;33m\u001b[0m\u001b[0m\n\u001b[1;32m----> 6\u001b[1;33m \u001b[0mapi\u001b[0m\u001b[1;33m.\u001b[0m\u001b[0mget\u001b[0m\u001b[1;33m(\u001b[0m\u001b[1;34m'ISteamUserStats'\u001b[0m\u001b[1;33m,\u001b[0m \u001b[1;34m'GetUserStatsForGame'\u001b[0m\u001b[1;33m,\u001b[0m \u001b[0mversion\u001b[0m\u001b[1;33m=\u001b[0m\u001b[1;36m2\u001b[0m\u001b[1;33m,\u001b[0m \u001b[0mapihost\u001b[0m\u001b[1;33m=\u001b[0m\u001b[1;34m'api.steampowered.com'\u001b[0m\u001b[1;33m,\u001b[0m \u001b[0mhttps\u001b[0m\u001b[1;33m=\u001b[0m\u001b[1;32mTrue\u001b[0m\u001b[1;33m,\u001b[0m \u001b[0mcaller\u001b[0m\u001b[1;33m=\u001b[0m\u001b[1;32mNone\u001b[0m\u001b[1;33m,\u001b[0m \u001b[0msession\u001b[0m\u001b[1;33m=\u001b[0m\u001b[1;32mNone\u001b[0m\u001b[1;33m,\u001b[0m \u001b[0mparams\u001b[0m\u001b[1;33m=\u001b[0m\u001b[1;32mNone\u001b[0m\u001b[1;33m)\u001b[0m\u001b[1;33m\u001b[0m\u001b[1;33m\u001b[0m\u001b[0m\n\u001b[0m",
      "\u001b[1;31mAttributeError\u001b[0m: 'WebAPI' object has no attribute 'get'"
     ]
    }
   ],
   "source": [
    "steam_id = SteamID('76561199024398556')\n",
    "# user_steamID = st.user_input('Type your Steam I.D')\n",
    "kovaaks_app_id = '824270'\n",
    "\n",
    "api = WebAPI(key='B491BF335C5EA291FF13B4B213C4578A')\n",
    "\n",
    "api.get('ISteamUserStats', 'GetUserStatsForGame', version=2, apihost='api.steampowered.com', https=True, caller=None, session=None, params=None)"
   ]
  },
  {
   "cell_type": "code",
   "execution_count": null,
   "metadata": {},
   "outputs": [
    {
     "ename": "AttributeError",
     "evalue": "module 'steam' has no attribute 'client'",
     "output_type": "error",
     "traceback": [
      "\u001b[1;31m---------------------------------------------------------------------------\u001b[0m",
      "\u001b[1;31mAttributeError\u001b[0m                            Traceback (most recent call last)",
      "\u001b[1;32m~\\AppData\\Local\\Temp/ipykernel_10092/3349588851.py\u001b[0m in \u001b[0;36m<module>\u001b[1;34m\u001b[0m\n\u001b[0;32m      3\u001b[0m \u001b[0mkovaaks_app_id\u001b[0m \u001b[1;33m=\u001b[0m \u001b[1;34m'824270'\u001b[0m\u001b[1;33m\u001b[0m\u001b[1;33m\u001b[0m\u001b[0m\n\u001b[0;32m      4\u001b[0m \u001b[0mapi\u001b[0m \u001b[1;33m=\u001b[0m \u001b[0mWebAPI\u001b[0m\u001b[1;33m(\u001b[0m\u001b[0mkey\u001b[0m\u001b[1;33m=\u001b[0m\u001b[1;34m'B491BF335C5EA291FF13B4B213C4578A'\u001b[0m\u001b[1;33m)\u001b[0m\u001b[1;33m\u001b[0m\u001b[1;33m\u001b[0m\u001b[0m\n\u001b[1;32m----> 5\u001b[1;33m \u001b[0msteam\u001b[0m\u001b[1;33m.\u001b[0m\u001b[0mclient\u001b[0m\u001b[1;33m.\u001b[0m\u001b[0mbuiltins\u001b[0m\u001b[1;33m.\u001b[0m\u001b[0mleaderboards\u001b[0m\u001b[1;33m.\u001b[0m\u001b[0mSteamLeaderboard\u001b[0m\u001b[1;33m(\u001b[0m\u001b[0mapi\u001b[0m\u001b[1;33m,\u001b[0m \u001b[0mkovaaks_app_id\u001b[0m\u001b[1;33m,\u001b[0m \u001b[0msteam_id\u001b[0m\u001b[1;33m,\u001b[0m \u001b[0mdata\u001b[0m\u001b[1;33m=\u001b[0m\u001b[1;32mNone\u001b[0m\u001b[1;33m)\u001b[0m\u001b[1;33m\u001b[0m\u001b[1;33m\u001b[0m\u001b[0m\n\u001b[0m",
      "\u001b[1;31mAttributeError\u001b[0m: module 'steam' has no attribute 'client'"
     ]
    }
   ],
   "source": [
    "steam_id = SteamID('76561199024398556')\n",
    "# user_steamID = st.user_input('Type your Steam I.D')\n",
    "kovaaks_app_id = '824270'\n",
    "api = WebAPI(key='B491BF335C5EA291FF13B4B213C4578A')\n",
    "steam.client.builtins.leaderboards.SteamLeaderboard(api, kovaaks_app_id, steam_id, data=None)"
   ]
  },
  {
   "cell_type": "code",
   "execution_count": null,
   "metadata": {},
   "outputs": [],
   "source": []
  }
 ],
 "metadata": {
  "interpreter": {
   "hash": "679ca3d7e10d4fea823e60e28cb6f57bfb034a2481868839314afba603aaea83"
  },
  "kernelspec": {
   "display_name": "Python 3.9.7 ('base')",
   "language": "python",
   "name": "python3"
  },
  "language_info": {
   "codemirror_mode": {
    "name": "ipython",
    "version": 3
   },
   "file_extension": ".py",
   "mimetype": "text/x-python",
   "name": "python",
   "nbconvert_exporter": "python",
   "pygments_lexer": "ipython3",
   "version": "3.9.7"
  },
  "orig_nbformat": 4
 },
 "nbformat": 4,
 "nbformat_minor": 2
}
