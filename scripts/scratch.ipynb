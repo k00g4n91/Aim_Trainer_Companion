{
 "cells": [
  {
   "cell_type": "code",
   "execution_count": 5,
   "metadata": {},
   "outputs": [],
   "source": [
    "import re\n",
    "import difflib\n",
    "import requests\n",
    "import pandas as pd\n",
    "import numpy as np\n",
    "import steamleaderboards as sl\n",
    "import zipfile\n",
    "import matplotlib.pyplot as plt \n",
    "import matplotlib\n",
    "import seaborn as sns \n",
    "import os\n",
    "import shutil\n",
    "from datetime import date\n",
    "import csv\n",
    "import time\n",
    "import zipfile"
   ]
  },
  {
   "cell_type": "code",
   "execution_count": 12,
   "metadata": {},
   "outputs": [
    {
     "data": {
      "text/plain": [
       "'G:\\\\Steam\\\\steamapps\\\\common\\\\FPSAimTrainer\\\\FPSAimTrainer\\\\stats_comp.zip'"
      ]
     },
     "execution_count": 12,
     "metadata": {},
     "output_type": "execute_result"
    }
   ],
   "source": [
    "zip_file_path = 'G:\\Steam\\steamapps\\common\\FPSAimTrainer\\FPSAimTrainer\\stats_comp.zip'\n",
    "\n"
   ]
  },
  {
   "cell_type": "code",
   "execution_count": 11,
   "metadata": {},
   "outputs": [
    {
     "data": {
      "text/plain": [
       "[None]"
      ]
     },
     "execution_count": 11,
     "metadata": {},
     "output_type": "execute_result"
    }
   ],
   "source": [
    "temp = []\n",
    "\n",
    "uploaded_zip = 'G:\\Steam\\steamapps\\common\\FPSAimTrainer\\FPSAimTrainer\\stats_comp.zip'\n",
    "\n",
    "if (uploaded_zip is not None):\n",
    "    zip_extract = zipfile.ZipFile(uploaded_zip, 'r').extractall()\n",
    "    temp.append(zip_extract)\n",
    "    try:\n",
    "        stats = pd.read_csv(temp + '\\\\stats.csv')\n",
    "    except:\n",
    "        stats = pd.DataFrame(columns=['Kills', 'Avg TTK', 'Score', 'Scenario'])\n",
    "\n",
    "uploaded_zip"
   ]
  },
  {
   "cell_type": "code",
   "execution_count": null,
   "metadata": {},
   "outputs": [],
   "source": []
  },
  {
   "cell_type": "code",
   "execution_count": null,
   "metadata": {},
   "outputs": [],
   "source": []
  }
 ],
 "metadata": {
  "interpreter": {
   "hash": "679ca3d7e10d4fea823e60e28cb6f57bfb034a2481868839314afba603aaea83"
  },
  "kernelspec": {
   "display_name": "Python 3.9.7 ('base')",
   "language": "python",
   "name": "python3"
  },
  "language_info": {
   "codemirror_mode": {
    "name": "ipython",
    "version": 3
   },
   "file_extension": ".py",
   "mimetype": "text/x-python",
   "name": "python",
   "nbconvert_exporter": "python",
   "pygments_lexer": "ipython3",
   "version": "3.9.7"
  },
  "orig_nbformat": 4
 },
 "nbformat": 4,
 "nbformat_minor": 2
}
